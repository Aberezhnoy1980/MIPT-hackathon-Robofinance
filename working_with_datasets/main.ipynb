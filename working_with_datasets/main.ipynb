{
 "cells": [
  {
   "cell_type": "code",
   "execution_count": 12,
   "metadata": {},
   "outputs": [],
   "source": [
    "import numpy as np\n",
    "import pandas as pd\n",
    "from datetime import datetime"
   ]
  },
  {
   "cell_type": "code",
   "execution_count": 13,
   "metadata": {},
   "outputs": [],
   "source": [
    "from methods.divide_dataframe import divide_dataframe\n",
    "from methods.df_categorical_compressed import df_categorical_compressed"
   ]
  },
  {
   "cell_type": "code",
   "execution_count": 14,
   "metadata": {},
   "outputs": [],
   "source": [
    "# {k:np.sum if k in {'col3','col4'} else k:np.average for k in df.columns if k not in {'col1','col2'}"
   ]
  },
  {
   "cell_type": "code",
   "execution_count": 15,
   "metadata": {},
   "outputs": [],
   "source": [
    "pd.set_option('display.max_columns', None)\n",
    "pd.set_option('display.max_rows', None)"
   ]
  },
  {
   "cell_type": "code",
   "execution_count": 16,
   "metadata": {},
   "outputs": [],
   "source": [
    "# dateparse = lambda x: datetime.strptime(x, '%Y-%m-%d')\n",
    "df_bki = pd.read_csv('data/df_BKI_30k.csv', index_col=False, low_memory=False)"
   ]
  },
  {
   "cell_type": "code",
   "execution_count": 17,
   "metadata": {},
   "outputs": [],
   "source": [
    "# df_target = pd.read_csv('data/df_target_30k.csv', index_col=False, low_memory=False)"
   ]
  },
  {
   "cell_type": "code",
   "execution_count": 18,
   "metadata": {},
   "outputs": [],
   "source": [
    "df_dates, df_continuous, df_categorical, df_application_id = divide_dataframe(df_bki)"
   ]
  },
  {
   "cell_type": "code",
   "execution_count": 19,
   "metadata": {},
   "outputs": [],
   "source": [
    "del df_bki"
   ]
  },
  {
   "cell_type": "code",
   "execution_count": 20,
   "metadata": {},
   "outputs": [],
   "source": [
    "df_categorical = df_categorical_compressed(df_categorical)"
   ]
  },
  {
   "cell_type": "code",
   "execution_count": null,
   "metadata": {},
   "outputs": [],
   "source": []
  },
  {
   "cell_type": "code",
   "execution_count": 1,
   "metadata": {},
   "outputs": [],
   "source": [
    "# df_bki[(df_bki['application_id'] == 51871261)]['reporting_dt'].value_counts()"
   ]
  },
  {
   "cell_type": "code",
   "execution_count": null,
   "metadata": {},
   "outputs": [],
   "source": [
    "# df_target['target'].value_counts(dropna=False)"
   ]
  },
  {
   "cell_type": "code",
   "execution_count": null,
   "metadata": {},
   "outputs": [],
   "source": [
    "# df_bki['client_id'].value_counts()"
   ]
  },
  {
   "cell_type": "code",
   "execution_count": null,
   "metadata": {},
   "outputs": [],
   "source": [
    "# df_bki['application_id'].value_counts()"
   ]
  },
  {
   "cell_type": "code",
   "execution_count": null,
   "metadata": {},
   "outputs": [],
   "source": [
    "df_test = pd.get_dummies(df_bki.loc[(df_bki['application_id'] == 53123153) | (df_bki['application_id'] == 52175920)][['application_id', 'trade_acct_type1', 'trade_loan_kind_code']], columns=['trade_acct_type1', 'trade_loan_kind_code'], dtype=int)"
   ]
  },
  {
   "cell_type": "code",
   "execution_count": null,
   "metadata": {},
   "outputs": [],
   "source": [
    "# df_test"
   ]
  },
  {
   "cell_type": "code",
   "execution_count": null,
   "metadata": {},
   "outputs": [
    {
     "data": {
      "text/html": [
       "<div>\n",
       "<style scoped>\n",
       "    .dataframe tbody tr th:only-of-type {\n",
       "        vertical-align: middle;\n",
       "    }\n",
       "\n",
       "    .dataframe tbody tr th {\n",
       "        vertical-align: top;\n",
       "    }\n",
       "\n",
       "    .dataframe thead th {\n",
       "        text-align: right;\n",
       "    }\n",
       "</style>\n",
       "<table border=\"1\" class=\"dataframe\">\n",
       "  <thead>\n",
       "    <tr style=\"text-align: right;\">\n",
       "      <th></th>\n",
       "      <th>trade_acct_type1_1.0</th>\n",
       "      <th>trade_acct_type1_4.7</th>\n",
       "      <th>trade_acct_type1_8.0</th>\n",
       "      <th>trade_acct_type1_9.0</th>\n",
       "      <th>trade_acct_type1_14.0</th>\n",
       "      <th>trade_acct_type1_15.0</th>\n",
       "      <th>trade_acct_type1_19.0</th>\n",
       "      <th>trade_acct_type1_99.0</th>\n",
       "      <th>trade_loan_kind_code_1.0</th>\n",
       "      <th>trade_loan_kind_code_2.0</th>\n",
       "      <th>trade_loan_kind_code_3.0</th>\n",
       "      <th>trade_loan_kind_code_4.0</th>\n",
       "      <th>trade_loan_kind_code_5.0</th>\n",
       "      <th>trade_loan_kind_code_7.0</th>\n",
       "      <th>trade_loan_kind_code_99.0</th>\n",
       "    </tr>\n",
       "    <tr>\n",
       "      <th>application_id</th>\n",
       "      <th></th>\n",
       "      <th></th>\n",
       "      <th></th>\n",
       "      <th></th>\n",
       "      <th></th>\n",
       "      <th></th>\n",
       "      <th></th>\n",
       "      <th></th>\n",
       "      <th></th>\n",
       "      <th></th>\n",
       "      <th></th>\n",
       "      <th></th>\n",
       "      <th></th>\n",
       "      <th></th>\n",
       "      <th></th>\n",
       "    </tr>\n",
       "  </thead>\n",
       "  <tbody>\n",
       "    <tr>\n",
       "      <th>52175920</th>\n",
       "      <td>2</td>\n",
       "      <td>1</td>\n",
       "      <td>6</td>\n",
       "      <td>1</td>\n",
       "      <td>1</td>\n",
       "      <td>2</td>\n",
       "      <td>311</td>\n",
       "      <td>59</td>\n",
       "      <td>3</td>\n",
       "      <td>1</td>\n",
       "      <td>366</td>\n",
       "      <td>2</td>\n",
       "      <td>7</td>\n",
       "      <td>3</td>\n",
       "      <td>1</td>\n",
       "    </tr>\n",
       "    <tr>\n",
       "      <th>53123153</th>\n",
       "      <td>1</td>\n",
       "      <td>0</td>\n",
       "      <td>0</td>\n",
       "      <td>0</td>\n",
       "      <td>1</td>\n",
       "      <td>2</td>\n",
       "      <td>476</td>\n",
       "      <td>12</td>\n",
       "      <td>2</td>\n",
       "      <td>0</td>\n",
       "      <td>485</td>\n",
       "      <td>0</td>\n",
       "      <td>5</td>\n",
       "      <td>0</td>\n",
       "      <td>0</td>\n",
       "    </tr>\n",
       "  </tbody>\n",
       "</table>\n",
       "</div>"
      ],
      "text/plain": [
       "                trade_acct_type1_1.0  trade_acct_type1_4.7  \\\n",
       "application_id                                               \n",
       "52175920                           2                     1   \n",
       "53123153                           1                     0   \n",
       "\n",
       "                trade_acct_type1_8.0  trade_acct_type1_9.0  \\\n",
       "application_id                                               \n",
       "52175920                           6                     1   \n",
       "53123153                           0                     0   \n",
       "\n",
       "                trade_acct_type1_14.0  trade_acct_type1_15.0  \\\n",
       "application_id                                                 \n",
       "52175920                            1                      2   \n",
       "53123153                            1                      2   \n",
       "\n",
       "                trade_acct_type1_19.0  trade_acct_type1_99.0  \\\n",
       "application_id                                                 \n",
       "52175920                          311                     59   \n",
       "53123153                          476                     12   \n",
       "\n",
       "                trade_loan_kind_code_1.0  trade_loan_kind_code_2.0  \\\n",
       "application_id                                                       \n",
       "52175920                               3                         1   \n",
       "53123153                               2                         0   \n",
       "\n",
       "                trade_loan_kind_code_3.0  trade_loan_kind_code_4.0  \\\n",
       "application_id                                                       \n",
       "52175920                             366                         2   \n",
       "53123153                             485                         0   \n",
       "\n",
       "                trade_loan_kind_code_5.0  trade_loan_kind_code_7.0  \\\n",
       "application_id                                                       \n",
       "52175920                               7                         3   \n",
       "53123153                               5                         0   \n",
       "\n",
       "                trade_loan_kind_code_99.0  \n",
       "application_id                             \n",
       "52175920                                1  \n",
       "53123153                                0  "
      ]
     },
     "execution_count": 16,
     "metadata": {},
     "output_type": "execute_result"
    }
   ],
   "source": [
    "df_test.groupby(['application_id']).sum()"
   ]
  },
  {
   "cell_type": "code",
   "execution_count": null,
   "metadata": {},
   "outputs": [],
   "source": [
    "# df_bki['trade_opened_dt'].value_counts().sort_index(ascending=True)"
   ]
  },
  {
   "cell_type": "code",
   "execution_count": null,
   "metadata": {},
   "outputs": [
    {
     "data": {
      "text/plain": [
       "reporting_dt\n",
       "2023-07-19      959\n",
       "2023-07-20     5360\n",
       "2023-07-21     5230\n",
       "2023-07-22     5309\n",
       "2023-07-23     5747\n",
       "2023-07-24     6510\n",
       "2023-07-25     5019\n",
       "2023-07-26     4607\n",
       "2023-07-28     5420\n",
       "2023-07-29     6254\n",
       "2023-07-30     6039\n",
       "2023-07-31     7319\n",
       "2023-08-01     6102\n",
       "2023-08-02     5139\n",
       "2023-08-03     5860\n",
       "2023-08-04     5151\n",
       "2023-08-05     4793\n",
       "2023-08-06     6231\n",
       "2023-08-07     6924\n",
       "2023-08-08     5785\n",
       "2023-08-09     5996\n",
       "2023-08-10     5671\n",
       "2023-08-11     5203\n",
       "2023-08-12     6768\n",
       "2023-08-13     7343\n",
       "2023-08-14     5993\n",
       "2023-08-15     6748\n",
       "2023-08-16     6627\n",
       "2023-08-17     8356\n",
       "2023-08-18    10381\n",
       "2023-08-19    10043\n",
       "2023-08-20    11882\n",
       "2023-08-21     8321\n",
       "2023-08-22     8267\n",
       "2023-08-23    13974\n",
       "2023-08-24    10790\n",
       "2023-08-25    10870\n",
       "2023-08-26    10682\n",
       "2023-08-27    12030\n",
       "2023-08-28     9679\n",
       "2023-08-29    11101\n",
       "2023-08-30    12693\n",
       "2023-08-31    11260\n",
       "2023-09-01    10007\n",
       "2023-09-02     9573\n",
       "2023-09-03     7918\n",
       "2023-09-04    10764\n",
       "2023-09-05    10460\n",
       "2023-09-06     9479\n",
       "2023-09-07     9210\n",
       "2023-09-08     9545\n",
       "2023-09-09     9095\n",
       "2023-09-10     9234\n",
       "2023-09-11    10800\n",
       "2023-09-12    10477\n",
       "2023-09-13    10869\n",
       "2023-09-14     8731\n",
       "2023-09-15     9459\n",
       "2023-09-16     8906\n",
       "2023-09-17     6372\n",
       "Name: count, dtype: int64"
      ]
     },
     "execution_count": 18,
     "metadata": {},
     "output_type": "execute_result"
    }
   ],
   "source": [
    "df_bki['reporting_dt'].value_counts().sort_index(ascending=True)"
   ]
  },
  {
   "cell_type": "code",
   "execution_count": null,
   "metadata": {},
   "outputs": [],
   "source": [
    "# df_bki[(df_bki['application_id'] == 53123153)]['trade_opened_dt'].value_counts().sort_index(ascending=True)"
   ]
  },
  {
   "cell_type": "code",
   "execution_count": null,
   "metadata": {},
   "outputs": [],
   "source": [
    "# df_bki[(df_bki['application_id'] == 53123153)]['trade_close_dt'].value_counts().sort_index(ascending=True)"
   ]
  },
  {
   "cell_type": "code",
   "execution_count": null,
   "metadata": {},
   "outputs": [
    {
     "data": {
      "text/html": [
       "<div>\n",
       "<style scoped>\n",
       "    .dataframe tbody tr th:only-of-type {\n",
       "        vertical-align: middle;\n",
       "    }\n",
       "\n",
       "    .dataframe tbody tr th {\n",
       "        vertical-align: top;\n",
       "    }\n",
       "\n",
       "    .dataframe thead th {\n",
       "        text-align: right;\n",
       "    }\n",
       "</style>\n",
       "<table border=\"1\" class=\"dataframe\">\n",
       "  <thead>\n",
       "    <tr style=\"text-align: right;\">\n",
       "      <th></th>\n",
       "      <th>trade_opened_dt</th>\n",
       "      <th>trade_close_dt</th>\n",
       "    </tr>\n",
       "  </thead>\n",
       "  <tbody>\n",
       "    <tr>\n",
       "      <th>282915</th>\n",
       "      <td>2013-04-11</td>\n",
       "      <td>2018-08-08</td>\n",
       "    </tr>\n",
       "    <tr>\n",
       "      <th>246354</th>\n",
       "      <td>2013-12-25</td>\n",
       "      <td>2018-08-06</td>\n",
       "    </tr>\n",
       "    <tr>\n",
       "      <th>257865</th>\n",
       "      <td>2014-05-06</td>\n",
       "      <td>2018-05-06</td>\n",
       "    </tr>\n",
       "    <tr>\n",
       "      <th>253527</th>\n",
       "      <td>2014-07-04</td>\n",
       "      <td>NaN</td>\n",
       "    </tr>\n",
       "    <tr>\n",
       "      <th>253487</th>\n",
       "      <td>2018-05-15</td>\n",
       "      <td>2018-06-04</td>\n",
       "    </tr>\n",
       "  </tbody>\n",
       "</table>\n",
       "</div>"
      ],
      "text/plain": [
       "       trade_opened_dt trade_close_dt\n",
       "282915      2013-04-11     2018-08-08\n",
       "246354      2013-12-25     2018-08-06\n",
       "257865      2014-05-06     2018-05-06\n",
       "253527      2014-07-04            NaN\n",
       "253487      2018-05-15     2018-06-04"
      ]
     },
     "execution_count": 22,
     "metadata": {},
     "output_type": "execute_result"
    }
   ],
   "source": [
    "df_bki[(df_bki['application_id'] == 53123153)][['trade_opened_dt', 'trade_close_dt']].sort_values('trade_opened_dt').head()"
   ]
  },
  {
   "cell_type": "code",
   "execution_count": null,
   "metadata": {},
   "outputs": [],
   "source": [
    "df_test1 = pd.pivot_table(df_bki[['application_id', 'account_amt_credit_limit', 'trade_loan_kind_code']], values=['account_amt_credit_limit'], index=['application_id'], columns=['trade_loan_kind_code'], aggfunc='sum')"
   ]
  },
  {
   "cell_type": "code",
   "execution_count": null,
   "metadata": {},
   "outputs": [],
   "source": [
    "df_test1 = df_test1.fillna(0.0)"
   ]
  },
  {
   "cell_type": "code",
   "execution_count": null,
   "metadata": {},
   "outputs": [
    {
     "data": {
      "text/html": [
       "<div>\n",
       "<style scoped>\n",
       "    .dataframe tbody tr th:only-of-type {\n",
       "        vertical-align: middle;\n",
       "    }\n",
       "\n",
       "    .dataframe tbody tr th {\n",
       "        vertical-align: top;\n",
       "    }\n",
       "\n",
       "    .dataframe thead tr th {\n",
       "        text-align: left;\n",
       "    }\n",
       "\n",
       "    .dataframe thead tr:last-of-type th {\n",
       "        text-align: right;\n",
       "    }\n",
       "</style>\n",
       "<table border=\"1\" class=\"dataframe\">\n",
       "  <thead>\n",
       "    <tr>\n",
       "      <th></th>\n",
       "      <th colspan=\"8\" halign=\"left\">account_amt_credit_limit</th>\n",
       "    </tr>\n",
       "    <tr>\n",
       "      <th>trade_loan_kind_code</th>\n",
       "      <th>1.0</th>\n",
       "      <th>2.0</th>\n",
       "      <th>3.0</th>\n",
       "      <th>4.0</th>\n",
       "      <th>5.0</th>\n",
       "      <th>6.0</th>\n",
       "      <th>7.0</th>\n",
       "      <th>99.0</th>\n",
       "    </tr>\n",
       "    <tr>\n",
       "      <th>application_id</th>\n",
       "      <th></th>\n",
       "      <th></th>\n",
       "      <th></th>\n",
       "      <th></th>\n",
       "      <th></th>\n",
       "      <th></th>\n",
       "      <th></th>\n",
       "      <th></th>\n",
       "    </tr>\n",
       "  </thead>\n",
       "  <tbody>\n",
       "    <tr>\n",
       "      <th>51534101</th>\n",
       "      <td>387063.66</td>\n",
       "      <td>0.0</td>\n",
       "      <td>110394.95</td>\n",
       "      <td>0.0</td>\n",
       "      <td>0.0</td>\n",
       "      <td>0.0</td>\n",
       "      <td>0.0</td>\n",
       "      <td>0.0</td>\n",
       "    </tr>\n",
       "    <tr>\n",
       "      <th>51534210</th>\n",
       "      <td>5300.00</td>\n",
       "      <td>0.0</td>\n",
       "      <td>88329.00</td>\n",
       "      <td>0.0</td>\n",
       "      <td>0.0</td>\n",
       "      <td>0.0</td>\n",
       "      <td>0.0</td>\n",
       "      <td>0.0</td>\n",
       "    </tr>\n",
       "    <tr>\n",
       "      <th>51534377</th>\n",
       "      <td>0.00</td>\n",
       "      <td>0.0</td>\n",
       "      <td>17000.00</td>\n",
       "      <td>0.0</td>\n",
       "      <td>56000.0</td>\n",
       "      <td>0.0</td>\n",
       "      <td>0.0</td>\n",
       "      <td>0.0</td>\n",
       "    </tr>\n",
       "    <tr>\n",
       "      <th>51534467</th>\n",
       "      <td>119726.58</td>\n",
       "      <td>0.0</td>\n",
       "      <td>0.00</td>\n",
       "      <td>15000.0</td>\n",
       "      <td>15000.0</td>\n",
       "      <td>0.0</td>\n",
       "      <td>0.0</td>\n",
       "      <td>0.0</td>\n",
       "    </tr>\n",
       "    <tr>\n",
       "      <th>51534573</th>\n",
       "      <td>497962.00</td>\n",
       "      <td>0.0</td>\n",
       "      <td>211845.38</td>\n",
       "      <td>16856.0</td>\n",
       "      <td>188000.0</td>\n",
       "      <td>0.0</td>\n",
       "      <td>190000.0</td>\n",
       "      <td>0.0</td>\n",
       "    </tr>\n",
       "  </tbody>\n",
       "</table>\n",
       "</div>"
      ],
      "text/plain": [
       "                     account_amt_credit_limit                           \\\n",
       "trade_loan_kind_code                     1.0  2.0        3.0      4.0    \n",
       "application_id                                                           \n",
       "51534101                            387063.66  0.0  110394.95      0.0   \n",
       "51534210                              5300.00  0.0   88329.00      0.0   \n",
       "51534377                                 0.00  0.0   17000.00      0.0   \n",
       "51534467                            119726.58  0.0       0.00  15000.0   \n",
       "51534573                            497962.00  0.0  211845.38  16856.0   \n",
       "\n",
       "                                                    \n",
       "trade_loan_kind_code      5.0  6.0       7.0  99.0  \n",
       "application_id                                      \n",
       "51534101                   0.0  0.0       0.0  0.0  \n",
       "51534210                   0.0  0.0       0.0  0.0  \n",
       "51534377               56000.0  0.0       0.0  0.0  \n",
       "51534467               15000.0  0.0       0.0  0.0  \n",
       "51534573              188000.0  0.0  190000.0  0.0  "
      ]
     },
     "execution_count": 25,
     "metadata": {},
     "output_type": "execute_result"
    }
   ],
   "source": [
    "df_test1.head()"
   ]
  },
  {
   "cell_type": "code",
   "execution_count": null,
   "metadata": {},
   "outputs": [
    {
     "data": {
      "text/plain": [
       "                          trade_loan_kind_code\n",
       "account_amt_credit_limit  1.0                      799000.00\n",
       "                          2.0                           0.00\n",
       "                          3.0                     7899652.09\n",
       "                          4.0                           0.00\n",
       "                          5.0                      270000.10\n",
       "                          6.0                           0.00\n",
       "                          7.0                           0.00\n",
       "                          99.0                          0.00\n",
       "Name: 53123153, dtype: float64"
      ]
     },
     "execution_count": 26,
     "metadata": {},
     "output_type": "execute_result"
    }
   ],
   "source": [
    "df_test1.loc[53123153]"
   ]
  },
  {
   "cell_type": "code",
   "execution_count": null,
   "metadata": {},
   "outputs": [],
   "source": [
    "df_test2 = pd.pivot_table(df_bki[['application_id', 'account_amt_credit_limit', 'trade_loan_kind_code']], values=['account_amt_credit_limit'], index=['application_id'], columns=['trade_loan_kind_code'], aggfunc='mean')"
   ]
  },
  {
   "cell_type": "code",
   "execution_count": null,
   "metadata": {},
   "outputs": [],
   "source": [
    "df_test2 = df_test2.fillna(0.0)"
   ]
  },
  {
   "cell_type": "code",
   "execution_count": null,
   "metadata": {},
   "outputs": [
    {
     "data": {
      "text/html": [
       "<div>\n",
       "<style scoped>\n",
       "    .dataframe tbody tr th:only-of-type {\n",
       "        vertical-align: middle;\n",
       "    }\n",
       "\n",
       "    .dataframe tbody tr th {\n",
       "        vertical-align: top;\n",
       "    }\n",
       "\n",
       "    .dataframe thead tr th {\n",
       "        text-align: left;\n",
       "    }\n",
       "\n",
       "    .dataframe thead tr:last-of-type th {\n",
       "        text-align: right;\n",
       "    }\n",
       "</style>\n",
       "<table border=\"1\" class=\"dataframe\">\n",
       "  <thead>\n",
       "    <tr>\n",
       "      <th></th>\n",
       "      <th colspan=\"8\" halign=\"left\">account_amt_credit_limit</th>\n",
       "    </tr>\n",
       "    <tr>\n",
       "      <th>trade_loan_kind_code</th>\n",
       "      <th>1.0</th>\n",
       "      <th>2.0</th>\n",
       "      <th>3.0</th>\n",
       "      <th>4.0</th>\n",
       "      <th>5.0</th>\n",
       "      <th>6.0</th>\n",
       "      <th>7.0</th>\n",
       "      <th>99.0</th>\n",
       "    </tr>\n",
       "    <tr>\n",
       "      <th>application_id</th>\n",
       "      <th></th>\n",
       "      <th></th>\n",
       "      <th></th>\n",
       "      <th></th>\n",
       "      <th></th>\n",
       "      <th></th>\n",
       "      <th></th>\n",
       "      <th></th>\n",
       "    </tr>\n",
       "  </thead>\n",
       "  <tbody>\n",
       "    <tr>\n",
       "      <th>51534101</th>\n",
       "      <td>129021.220000</td>\n",
       "      <td>0.0</td>\n",
       "      <td>7885.353571</td>\n",
       "      <td>0.0</td>\n",
       "      <td>0.0</td>\n",
       "      <td>0.0</td>\n",
       "      <td>0.000000</td>\n",
       "      <td>0.0</td>\n",
       "    </tr>\n",
       "    <tr>\n",
       "      <th>51534210</th>\n",
       "      <td>5300.000000</td>\n",
       "      <td>0.0</td>\n",
       "      <td>5520.562500</td>\n",
       "      <td>0.0</td>\n",
       "      <td>0.0</td>\n",
       "      <td>0.0</td>\n",
       "      <td>0.000000</td>\n",
       "      <td>0.0</td>\n",
       "    </tr>\n",
       "    <tr>\n",
       "      <th>51534377</th>\n",
       "      <td>0.000000</td>\n",
       "      <td>0.0</td>\n",
       "      <td>5666.666667</td>\n",
       "      <td>0.0</td>\n",
       "      <td>28000.0</td>\n",
       "      <td>0.0</td>\n",
       "      <td>0.000000</td>\n",
       "      <td>0.0</td>\n",
       "    </tr>\n",
       "    <tr>\n",
       "      <th>51534467</th>\n",
       "      <td>59863.290000</td>\n",
       "      <td>0.0</td>\n",
       "      <td>0.000000</td>\n",
       "      <td>15000.0</td>\n",
       "      <td>15000.0</td>\n",
       "      <td>0.0</td>\n",
       "      <td>0.000000</td>\n",
       "      <td>0.0</td>\n",
       "    </tr>\n",
       "    <tr>\n",
       "      <th>51534573</th>\n",
       "      <td>45269.272727</td>\n",
       "      <td>0.0</td>\n",
       "      <td>30263.625714</td>\n",
       "      <td>16856.0</td>\n",
       "      <td>37600.0</td>\n",
       "      <td>0.0</td>\n",
       "      <td>63333.333333</td>\n",
       "      <td>0.0</td>\n",
       "    </tr>\n",
       "  </tbody>\n",
       "</table>\n",
       "</div>"
      ],
      "text/plain": [
       "                     account_amt_credit_limit                              \\\n",
       "trade_loan_kind_code                     1.0  2.0           3.0      4.0    \n",
       "application_id                                                              \n",
       "51534101                        129021.220000  0.0   7885.353571      0.0   \n",
       "51534210                          5300.000000  0.0   5520.562500      0.0   \n",
       "51534377                             0.000000  0.0   5666.666667      0.0   \n",
       "51534467                         59863.290000  0.0      0.000000  15000.0   \n",
       "51534573                         45269.272727  0.0  30263.625714  16856.0   \n",
       "\n",
       "                                                       \n",
       "trade_loan_kind_code     5.0  6.0           7.0  99.0  \n",
       "application_id                                         \n",
       "51534101                  0.0  0.0      0.000000  0.0  \n",
       "51534210                  0.0  0.0      0.000000  0.0  \n",
       "51534377              28000.0  0.0      0.000000  0.0  \n",
       "51534467              15000.0  0.0      0.000000  0.0  \n",
       "51534573              37600.0  0.0  63333.333333  0.0  "
      ]
     },
     "execution_count": 29,
     "metadata": {},
     "output_type": "execute_result"
    }
   ],
   "source": [
    "df_test2.head()"
   ]
  }
 ],
 "metadata": {
  "kernelspec": {
   "display_name": ".venv",
   "language": "python",
   "name": "python3"
  },
  "language_info": {
   "codemirror_mode": {
    "name": "ipython",
    "version": 3
   },
   "file_extension": ".py",
   "mimetype": "text/x-python",
   "name": "python",
   "nbconvert_exporter": "python",
   "pygments_lexer": "ipython3",
   "version": "3.10.11"
  }
 },
 "nbformat": 4,
 "nbformat_minor": 2
}
